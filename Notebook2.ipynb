{
 "cells": [
  {
   "cell_type": "markdown",
   "id": "594dbf92",
   "metadata": {},
   "source": [
    "# Binary Search"
   ]
  },
  {
   "cell_type": "markdown",
   "id": "12f9bd4b",
   "metadata": {},
   "source": [
    "### Template 1\n",
    "Contains (True or False)"
   ]
  },
  {
   "cell_type": "code",
   "execution_count": 12,
   "id": "48f78c05",
   "metadata": {},
   "outputs": [],
   "source": [
    "def bs_contains(target, arr):\n",
    "    low = 0\n",
    "    high = len(arr) - 1\n",
    "    \n",
    "    while low <= high:\n",
    "        mid = (low + high) // 2\n",
    "        if target == arr[mid]:\n",
    "            return True\n",
    "        elif target > arr[mid]:\n",
    "            low = mid + 1\n",
    "        else:\n",
    "            high = mid - 1\n",
    "            \n",
    "    return False"
   ]
  },
  {
   "cell_type": "code",
   "execution_count": 13,
   "id": "19f1acd5",
   "metadata": {},
   "outputs": [
    {
     "name": "stdout",
     "output_type": "stream",
     "text": [
      "[5, 11, 17, 23, 29, 35, 41, 47, 53, 59, 65, 71, 77, 83]\n",
      "target_value index: False\n"
     ]
    }
   ],
   "source": [
    "lst = list(range(5,87,6))\n",
    "print(lst)\n",
    "\n",
    "target_value = 4\n",
    "\n",
    "print('target_value index:', bs_contains(target_value, lst))"
   ]
  },
  {
   "cell_type": "markdown",
   "id": "cabb2668",
   "metadata": {},
   "source": [
    "### Template 2\n",
    "Starting index"
   ]
  },
  {
   "cell_type": "code",
   "execution_count": 14,
   "id": "22b4a4d7",
   "metadata": {},
   "outputs": [],
   "source": [
    "def bs_start_index(target, arr):\n",
    "    low = 0\n",
    "    high = len(arr) - 1\n",
    "    index = -1\n",
    "    \n",
    "    while low <= high:\n",
    "        mid = (low + high) // 2\n",
    "        if target == arr[mid]:\n",
    "            index = mid\n",
    "            high = mid - 1\n",
    "        elif target > arr[mid]:\n",
    "            low = mid + 1\n",
    "        else:\n",
    "            high = mid - 1\n",
    "            \n",
    "    return index"
   ]
  },
  {
   "cell_type": "code",
   "execution_count": 17,
   "id": "7a624fba",
   "metadata": {},
   "outputs": [
    {
     "name": "stdout",
     "output_type": "stream",
     "text": [
      "[1, 2, 3, 4, 5, 5, 5, 5, 5, 5, 6, 6, 6, 8, 9, 10, 11, 11, 13]\n",
      "target_value index: 4\n"
     ]
    }
   ],
   "source": [
    "lst = nums = [1, 2, 3, 4, 5, 5, 5, 5, 5, 5, 6, 6, 6, 8, 9, 10, 11, 11, 13]\n",
    "print(lst)\n",
    "\n",
    "target_value = 5\n",
    "\n",
    "print('target_value index:', bs_start_index(target_value, lst))"
   ]
  },
  {
   "cell_type": "markdown",
   "id": "b1a92bbd",
   "metadata": {},
   "source": [
    "### Template 3\n",
    "End index"
   ]
  },
  {
   "cell_type": "code",
   "execution_count": 18,
   "id": "a5e0ed83",
   "metadata": {},
   "outputs": [],
   "source": [
    "def bs_end_index(target, arr):\n",
    "    low = 0\n",
    "    high = len(arr) - 1\n",
    "    index = -1\n",
    "    \n",
    "    while low <= high:\n",
    "        mid = (low + high) // 2\n",
    "        if target == arr[mid]:\n",
    "            index = mid\n",
    "            low = mid + 1\n",
    "        elif target > arr[mid]:\n",
    "            low = mid + 1\n",
    "        else:\n",
    "            high = mid - 1\n",
    "            \n",
    "    return index"
   ]
  },
  {
   "cell_type": "code",
   "execution_count": 19,
   "id": "3a80dfb7",
   "metadata": {},
   "outputs": [
    {
     "name": "stdout",
     "output_type": "stream",
     "text": [
      "[1, 2, 3, 4, 5, 5, 5, 5, 5, 5, 6, 6, 6, 8, 9, 10, 11, 11, 13]\n",
      "target_value index: 9\n"
     ]
    }
   ],
   "source": [
    "lst = nums = [1, 2, 3, 4, 5, 5, 5, 5, 5, 5, 6, 6, 6, 8, 9, 10, 11, 11, 13]\n",
    "print(lst)\n",
    "\n",
    "target_value = 5\n",
    "\n",
    "print('target_value index:', bs_end_index(target_value, lst))"
   ]
  },
  {
   "cell_type": "markdown",
   "id": "b506a5a4",
   "metadata": {},
   "source": [
    "# Tree Traversal\n",
    "* Depth First Search (using recursion)\n",
    "    - PreOrder\n",
    "    - InOrder\n",
    "    - PostOrder\n",
    "* Breath First Search\n",
    "    - LevelOrder"
   ]
  },
  {
   "cell_type": "code",
   "execution_count": 32,
   "id": "d1192f20",
   "metadata": {},
   "outputs": [],
   "source": [
    "from collections import deque\n",
    "\n",
    "class Node:\n",
    "    def __init__(self, value=None):\n",
    "        self.value = value\n",
    "        self.left = None\n",
    "        self.right = None\n",
    "        \n",
    "class BinarySearchTree:\n",
    "    def __init__(self, root=None):\n",
    "        self.root = root\n",
    "        self.result = []\n",
    "        self.string = ''\n",
    "        \n",
    "    def insert(self, value):\n",
    "        node = Node(value)\n",
    "        if self.root:\n",
    "            temp = self.root\n",
    "            while temp:\n",
    "                current = temp\n",
    "                if value > temp.value:\n",
    "                    temp = temp.right\n",
    "                else:\n",
    "                    temp = temp.left\n",
    "\n",
    "            if current.value >= value:\n",
    "                current.left = node\n",
    "            else:\n",
    "                current.right = node\n",
    "        else:\n",
    "            self.root = node\n",
    "            \n",
    "    def insert_arr(self, arr):\n",
    "        for val in arr:\n",
    "            self.insert(val)\n",
    "            \n",
    "    def levelOrder(self, start):\n",
    "        if start:\n",
    "            self.result = []\n",
    "            travesal = ''\n",
    "            queue = deque()\n",
    "            queue.append(start)\n",
    "\n",
    "            while queue:\n",
    "                level = len(queue)\n",
    "                current_level = []\n",
    "\n",
    "                for _ in range(level):\n",
    "                    current_node = queue.popleft()\n",
    "                    current_level.append(current_node.value)\n",
    "                    travesal += str(current_node.value) + ' -> '\n",
    "                    if current_node.left:\n",
    "                        queue.append(current_node.left)\n",
    "                    if current_node.right:\n",
    "                        queue.append(current_node.right)\n",
    "                self.result.append(current_level)\n",
    "\n",
    "            return travesal\n",
    "        else:\n",
    "            return\n",
    "        \n",
    "    def inOrder(self, node, s):\n",
    "        if node:\n",
    "            s = self.inOrder(node.left,s)\n",
    "            s += str(node.value) + ' -> '\n",
    "            s = self.inOrder(node.right,s)\n",
    "            \n",
    "        return s\n",
    "    \n",
    "    def inOrder_new(self,node):\n",
    "        if node:\n",
    "            self.inOrder_new(node.left)\n",
    "            self.string += str(node.value) + ' -> '\n",
    "            self.inOrder_new(node.right)\n",
    "            \n",
    "        return self.string\n",
    "            \n",
    "            \n",
    "    def preOrder(self, node, s):\n",
    "        if node:\n",
    "            s += str(node.value) + ' -> '\n",
    "            s = self.preOrder(node.left,s)\n",
    "            s = self.preOrder(node.right,s)\n",
    "            \n",
    "        return s\n",
    "            \n",
    "    def postOrder(self, node, s):\n",
    "        if node:\n",
    "            s = self.postOrder(node.left,s)\n",
    "            s = self.postOrder(node.right,s)\n",
    "            s += str(node.value) + ' -> '\n",
    "            \n",
    "        return s\n",
    "\n",
    "        \n",
    "    def printTree(self, type):\n",
    "        ans = 'Please Specify the right order'\n",
    "        if type.lower() == 'inorder':\n",
    "            ans = 'InOrder -> ' + self.inOrder(self.root, '')\n",
    "        elif type.lower() == 'preorder':\n",
    "            ans = 'PreOrder -> ' + self.preOrder(self.root, '')\n",
    "        elif type.lower() == 'postorder':\n",
    "            ans = 'PostOrder -> ' + self.postOrder(self.root, '')\n",
    "        elif type.lower() == 'levelorder':\n",
    "            ans = 'LevelOrder -> ' + self.levelOrder(self.root)\n",
    "        print(ans)"
   ]
  },
  {
   "cell_type": "code",
   "execution_count": 33,
   "id": "210376c1",
   "metadata": {},
   "outputs": [],
   "source": [
    "BST = BinarySearchTree()\n",
    "\n",
    "lst = [50,25,75,15,30,65,100]\n",
    "BST.insert_arr(lst)"
   ]
  },
  {
   "cell_type": "code",
   "execution_count": 34,
   "id": "8da66c2a",
   "metadata": {},
   "outputs": [
    {
     "name": "stdout",
     "output_type": "stream",
     "text": [
      "InOrder -> 15 -> 25 -> 30 -> 50 -> 65 -> 75 -> 100 -> \n"
     ]
    }
   ],
   "source": [
    "BST.printTree('inorder')"
   ]
  },
  {
   "cell_type": "code",
   "execution_count": 35,
   "id": "157ef837",
   "metadata": {},
   "outputs": [
    {
     "name": "stdout",
     "output_type": "stream",
     "text": [
      "PreOrder -> 50 -> 25 -> 15 -> 30 -> 75 -> 65 -> 100 -> \n"
     ]
    }
   ],
   "source": [
    "BST.printTree('PreOrder')"
   ]
  },
  {
   "cell_type": "code",
   "execution_count": 36,
   "id": "2206d658",
   "metadata": {},
   "outputs": [
    {
     "name": "stdout",
     "output_type": "stream",
     "text": [
      "PostOrder -> 15 -> 30 -> 25 -> 65 -> 100 -> 75 -> 50 -> \n"
     ]
    }
   ],
   "source": [
    "BST.printTree('PostOrder')"
   ]
  },
  {
   "cell_type": "code",
   "execution_count": 37,
   "id": "d9f984b0",
   "metadata": {},
   "outputs": [
    {
     "name": "stdout",
     "output_type": "stream",
     "text": [
      "LevelOrder -> 50 -> 25 -> 75 -> 15 -> 30 -> 65 -> 100 -> \n"
     ]
    }
   ],
   "source": [
    "BST.printTree('LevelOrder')"
   ]
  },
  {
   "cell_type": "markdown",
   "id": "cbce4277",
   "metadata": {},
   "source": [
    "# Graph"
   ]
  },
  {
   "cell_type": "code",
   "execution_count": 42,
   "id": "164e76d2",
   "metadata": {},
   "outputs": [],
   "source": [
    "graph = {\n",
    "    'A': ['B', 'C'],\n",
    "    'B': ['D', 'E'],\n",
    "    'C': ['F'],\n",
    "    'D': [],\n",
    "    'E': ['F'],\n",
    "    'F': []\n",
    "}"
   ]
  },
  {
   "cell_type": "markdown",
   "id": "7e82bd0c",
   "metadata": {},
   "source": [
    "#### Breath First Search\n",
    "* Useful to find shortest path"
   ]
  },
  {
   "cell_type": "code",
   "execution_count": 46,
   "id": "e91ace76",
   "metadata": {},
   "outputs": [],
   "source": [
    "def bfs(start, graph, result):\n",
    "    visited = set()\n",
    "    queue = []\n",
    "    queue.append(start)\n",
    "    while queue:\n",
    "        node = queue.pop(0)\n",
    "        if node not in visited:\n",
    "            result.append(node)\n",
    "            visited.add(node)\n",
    "            neighbours = graph[node]\n",
    "            for n in neighbours:\n",
    "                queue.append(n)\n",
    "            \n",
    "    print(result)"
   ]
  },
  {
   "cell_type": "code",
   "execution_count": 47,
   "id": "a616a27c",
   "metadata": {},
   "outputs": [
    {
     "name": "stdout",
     "output_type": "stream",
     "text": [
      "['A', 'B', 'C', 'D', 'E', 'F']\n"
     ]
    }
   ],
   "source": [
    "bfs_result = []\n",
    "bfs('A',graph, bfs_result)"
   ]
  },
  {
   "cell_type": "markdown",
   "id": "cf316a85",
   "metadata": {},
   "source": [
    "#### Deapth First Search (using recursion)"
   ]
  },
  {
   "cell_type": "code",
   "execution_count": 50,
   "id": "ce7383cc",
   "metadata": {},
   "outputs": [],
   "source": [
    "def dfs(start, graph, visited, ans):\n",
    "    if start:\n",
    "        if start not in visited:\n",
    "            ans.append(start)\n",
    "            visited.add(start)\n",
    "            neighbours = graph[start]\n",
    "            for n in neighbours:\n",
    "                dfs(n, graph, visited, ans)"
   ]
  },
  {
   "cell_type": "code",
   "execution_count": 51,
   "id": "1c58e6e6",
   "metadata": {},
   "outputs": [
    {
     "name": "stdout",
     "output_type": "stream",
     "text": [
      "['A', 'B', 'D', 'E', 'F', 'C']\n"
     ]
    }
   ],
   "source": [
    "visited = set()\n",
    "dfs_result = []\n",
    "\n",
    "dfs('A',graph,visited,dfs_result)\n",
    "print(result)"
   ]
  },
  {
   "cell_type": "code",
   "execution_count": null,
   "id": "4cb93c75",
   "metadata": {},
   "outputs": [],
   "source": []
  }
 ],
 "metadata": {
  "kernelspec": {
   "display_name": "Python 3 (ipykernel)",
   "language": "python",
   "name": "python3"
  },
  "language_info": {
   "codemirror_mode": {
    "name": "ipython",
    "version": 3
   },
   "file_extension": ".py",
   "mimetype": "text/x-python",
   "name": "python",
   "nbconvert_exporter": "python",
   "pygments_lexer": "ipython3",
   "version": "3.9.13"
  }
 },
 "nbformat": 4,
 "nbformat_minor": 5
}
