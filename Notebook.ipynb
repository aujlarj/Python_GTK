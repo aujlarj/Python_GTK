{
 "cells": [
  {
   "cell_type": "markdown",
   "id": "6e65d8e6",
   "metadata": {},
   "source": [
    "# GTKs"
   ]
  },
  {
   "cell_type": "markdown",
   "id": "e793fcf6",
   "metadata": {},
   "source": [
    "#### Counter"
   ]
  },
  {
   "cell_type": "code",
   "execution_count": 5,
   "id": "74f5635d",
   "metadata": {},
   "outputs": [
    {
     "name": "stdout",
     "output_type": "stream",
     "text": [
      "Counter({'d': 6, 'a': 5, 's': 5, 'f': 5})\n",
      "Counter({3: 14, 2: 8, 1: 7, 4: 2, 5: 2, 0: 2, 6: 1, 22: 1, 8: 1, 9: 1, 4444: 1})\n",
      "Counter({'a': 10, 's': 10, 'd': 6, 'f': 5, 'c': 5})\n"
     ]
    }
   ],
   "source": [
    "from collections import Counter\n",
    "\n",
    "string = 'asdfasdfasdfasdfasdfd'\n",
    "lst = [1,1,1,1,4,5,6,4,2,2,2,2,2,2,22,2,1,8,9,0,0,5,4444,3,3,3,3,3,3,3,3,3,3,3,3,3,3,2,1,1]\n",
    "dict1 = {'d': 6, 'a': 5, 's': 5, 'f': 5}\n",
    "dict2 = {'a': 5, 's': 5, 'c': 5}\n",
    "\n",
    "c1 = Counter(string)\n",
    "c2 = Counter(lst)\n",
    "c3 = Counter(dic) + Counter(dic2)\n",
    "\n",
    "print(c1)\n",
    "print(c2)\n",
    "print(c3)"
   ]
  },
  {
   "cell_type": "markdown",
   "id": "8a818789",
   "metadata": {},
   "source": [
    "#### OrderedDict"
   ]
  },
  {
   "cell_type": "code",
   "execution_count": 6,
   "id": "be77b0ea",
   "metadata": {},
   "outputs": [
    {
     "name": "stdout",
     "output_type": "stream",
     "text": [
      "OrderedDict([('A', 1), ('B', 2), ('C', 3), ('D', 4), ('E', 5)])\n",
      "OrderedDict([('B', 2), ('C', 3), ('D', 4), ('E', 5), ('A', 1)])\n",
      "OrderedDict([('C', 3), ('D', 4), ('E', 5), ('A', 1)])\n"
     ]
    }
   ],
   "source": [
    "from collections import OrderedDict\n",
    "\n",
    "dict1 = OrderedDict()\n",
    "\n",
    "dict1['A'] = 1\n",
    "dict1['B'] = 2\n",
    "dict1['C'] = 3\n",
    "dict1['D'] = 4\n",
    "dict1['E'] = 5\n",
    "\n",
    "print(dict1)\n",
    "\n",
    "dict1.move_to_end('A')\n",
    "print(dict1)\n",
    "\n",
    "dict1.popitem(last=False)\n",
    "print(dict1)"
   ]
  },
  {
   "cell_type": "markdown",
   "id": "b287ef28",
   "metadata": {},
   "source": [
    "#### deque"
   ]
  },
  {
   "cell_type": "code",
   "execution_count": 12,
   "id": "64cc3069",
   "metadata": {},
   "outputs": [
    {
     "name": "stdout",
     "output_type": "stream",
     "text": [
      "skrow nohtyp\n"
     ]
    }
   ],
   "source": [
    "from collections import deque\n",
    "\n",
    "#question - reverse the give string using queue\n",
    "string = 'python works'\n",
    "str_lst = list(string)\n",
    "\n",
    "queue = deque(str_lst)\n",
    "\n",
    "reverse_string = ''\n",
    "while queue:\n",
    "    reverse_string = queue.popleft() + reverse_string\n",
    "    \n",
    "print(reverse_string)"
   ]
  },
  {
   "cell_type": "markdown",
   "id": "901513bf",
   "metadata": {},
   "source": [
    "#### heapq"
   ]
  },
  {
   "cell_type": "code",
   "execution_count": 17,
   "id": "a6d66d55",
   "metadata": {},
   "outputs": [
    {
     "name": "stdout",
     "output_type": "stream",
     "text": [
      "List Before: [18, 15, 12, 9, 6, 3, 0]\n",
      "List After heapify: [0, 6, 3, 9, 15, 18, 12]\n",
      "----\n",
      "3 largest elm: [18, 15, 12]\n",
      "3 smalled elm: [0, 3, 6]\n",
      "----\n",
      "List After pushing 4: [0, 4, 3, 6, 15, 18, 12, 9]\n",
      "----\n",
      "List After pop: [3, 4, 9, 6, 15, 18, 12]\n"
     ]
    }
   ],
   "source": [
    "import heapq\n",
    "\n",
    "lst = list(reversed(range(0,21,3)))\n",
    "print('List Before:', lst)\n",
    "heapq.heapify(lst) # -> Linear time | Big(0) = N\n",
    "print('List After heapify:', lst)\n",
    "\n",
    "print('----\\n3 largest elm:', heapq.nlargest(3, lst))\n",
    "print('3 smalled elm:', heapq.nsmallest(3, lst))\n",
    "\n",
    "\n",
    "heapq.heappush(lst, 4)\n",
    "print('----\\nList After pushing 4:', lst)\n",
    "\n",
    "smallest = heapq.heappop(lst)\n",
    "print('----\\nList After pop:', lst)\n"
   ]
  },
  {
   "cell_type": "markdown",
   "id": "cb236349",
   "metadata": {},
   "source": [
    "#### bisect\n",
    "Binary Search for ordered/sorted list <br>"
   ]
  },
  {
   "cell_type": "code",
   "execution_count": 19,
   "id": "2eb58a23",
   "metadata": {},
   "outputs": [
    {
     "name": "stdout",
     "output_type": "stream",
     "text": [
      "[0, 1, 2, 3, 4, 5, 6, 7, 8, 9]\n",
      "7\n",
      "[0, 1, 2, 3, 4, 4, 5, 6, 7, 8, 9]\n"
     ]
    }
   ],
   "source": [
    "import bisect\n",
    "\n",
    "li1 = list(range(10))\n",
    "print(li1)\n",
    "get_index = bisect.bisect_left(li1, 7) # Big(O) -> log(n)\n",
    "print(get_index)\n",
    "\n",
    "bisect.insort(li1,4) #Big(O) -> n \n",
    "print(li1)"
   ]
  },
  {
   "cell_type": "markdown",
   "id": "8edd7d46",
   "metadata": {},
   "source": [
    "#### copy"
   ]
  },
  {
   "cell_type": "code",
   "execution_count": 26,
   "id": "d3d37338",
   "metadata": {},
   "outputs": [
    {
     "name": "stdout",
     "output_type": "stream",
     "text": [
      "[[1, 2, 3], ['A', 'ZZZZ', 'C'], [200, 'XYC', 'some Address']]\n",
      "[[1, 2, 3], ['A', 'B', 'C'], [200, 'XYC', 'some Address']] -> is unchanged\n"
     ]
    }
   ],
   "source": [
    "import copy as c\n",
    "var1 = [\n",
    "    [1,2,3],\n",
    "    ['A','B','C'],\n",
    "    [200, 'XYC', 'some Address']\n",
    "]\n",
    "var2 = c.deepcopy(var1)\n",
    "\n",
    "var1[1][1] = 'ZZZZ'\n",
    "print(var1)\n",
    "print(var2, '-> is unchanged')"
   ]
  },
  {
   "cell_type": "markdown",
   "id": "9ad82812",
   "metadata": {},
   "source": [
    "#### pprint"
   ]
  },
  {
   "cell_type": "code",
   "execution_count": 51,
   "id": "ac044c1d",
   "metadata": {},
   "outputs": [
    {
     "name": "stdout",
     "output_type": "stream",
     "text": [
      "{'results': [{'address_components': [...]}], 'status': 'OK'}\n"
     ]
    }
   ],
   "source": [
    "import pprint\n",
    "pp = pprint.PrettyPrinter(indent=1,depth=3)\n",
    "json = {'status': 'OK', 'results': [{'address_components': [{'long_name': 'Rajpath', 'types': ['route']}]}]}\n",
    "\n",
    "pp.pprint(json)"
   ]
  },
  {
   "cell_type": "code",
   "execution_count": null,
   "id": "49ed4f07",
   "metadata": {},
   "outputs": [],
   "source": []
  }
 ],
 "metadata": {
  "kernelspec": {
   "display_name": "Python 3 (ipykernel)",
   "language": "python",
   "name": "python3"
  },
  "language_info": {
   "codemirror_mode": {
    "name": "ipython",
    "version": 3
   },
   "file_extension": ".py",
   "mimetype": "text/x-python",
   "name": "python",
   "nbconvert_exporter": "python",
   "pygments_lexer": "ipython3",
   "version": "3.9.13"
  }
 },
 "nbformat": 4,
 "nbformat_minor": 5
}
